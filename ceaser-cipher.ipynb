{
 "cells": [
  {
   "cell_type": "code",
   "execution_count": 1,
   "id": "9df78e53",
   "metadata": {},
   "outputs": [
    {
     "name": "stdout",
     "output_type": "stream",
     "text": [
      "Type 'encode' to encrypt and type 'decode' to decryptencode\n",
      "Type your messagefello\n",
      "Type your shift number:/n6\n",
      "The encoded text is ihrru\n"
     ]
    }
   ],
   "source": [
    "alphabets = [ 'a', 'b', 'c', 'd', 'e', 'f', 'g', 'h', 'i', 'j', 'h', 'i', 'j', 'k', 'l', 'm', 'n', 'o', 'p', 'q', 'r', 's', 't', 'u', 'v', 'w', 'x', 'y', 'z']\n",
    "directions = input(\"Type 'encode' to encrypt and type 'decode' to decrypt\")\n",
    "text = input(\"Type your message\").lower()\n",
    "shift = int(input(\"Type your shift number:/n\"))\n",
    "def encrypt(plain_text, shift_amount):\n",
    "    cipher_text = \"\"\n",
    "    for letter in plain_text:\n",
    "        position = alphabets.index(letter)\n",
    "        new_position = position + shift_amount\n",
    "        new_letter = alphabets[new_position]\n",
    "        cipher_text += new_letter\n",
    "    print(f\"The encoded text is {cipher_text}\")\n",
    "def decrypt(plain_text, shift_amount):\n",
    "    plain_text = \"\"\n",
    "    for letter in cipher_text:\n",
    "        position = alphabets.index(letter)\n",
    "        new_position = position - shift_amount\n",
    "        plain_text = alphabets[new_position]\n",
    "    print(f\"The decode text is {plain_text}\")\n",
    "if directions == \"encode\":\n",
    "    encrypt(plain_text=text, shift_amount = shift)\n",
    "elif directions ==\"decode\":\n",
    "    decrypt(cipher_text = text, shift_amount = shift)"
   ]
  },
  {
   "cell_type": "code",
   "execution_count": null,
   "id": "ec2f8608",
   "metadata": {},
   "outputs": [],
   "source": []
  },
  {
   "cell_type": "code",
   "execution_count": null,
   "id": "fad28e8a",
   "metadata": {},
   "outputs": [],
   "source": []
  }
 ],
 "metadata": {
  "kernelspec": {
   "display_name": "Python 3 (ipykernel)",
   "language": "python",
   "name": "python3"
  },
  "language_info": {
   "codemirror_mode": {
    "name": "ipython",
    "version": 3
   },
   "file_extension": ".py",
   "mimetype": "text/x-python",
   "name": "python",
   "nbconvert_exporter": "python",
   "pygments_lexer": "ipython3",
   "version": "3.9.12"
  }
 },
 "nbformat": 4,
 "nbformat_minor": 5
}

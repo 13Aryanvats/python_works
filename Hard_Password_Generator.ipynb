{
 "cells": [
  {
   "cell_type": "code",
   "execution_count": 1,
   "id": "5e323736",
   "metadata": {},
   "outputs": [
    {
     "name": "stdout",
     "output_type": "stream",
     "text": [
      "How many letters you want in passwaord\n",
      "3\n",
      "How many letters you want in password\n",
      "4\n",
      "How many numbers you want in password\n",
      "5\n",
      " Your Password is 3d&V*3*4n!51\n"
     ]
    }
   ],
   "source": [
    "import random\n",
    "letters = ['a', 'b', 'c', 'd', 'e', 'f', 'g', 'h', 'i', 'j', 'k', 'l', 'm', 'n', 'o', 'p', 'q', 'r', 's', 't', 'u', 'v', 'w', 'x', 'y', 'z', 'A', 'B', 'C', 'D', 'E', 'F', 'G', 'H', 'I', 'J', 'K', 'L', 'M', 'N', 'O', 'P', 'Q', 'R', 'S', 'T', 'U', 'V', 'W', 'X', 'Y', 'Z']\n",
    "symbols = ['!', '@', '#', '$', '%', '^', '&', '*', '(', ')']\n",
    "numbers = ['1', '2', '3', '4', '5', '6', '7', '8', '9']\n",
    "\n",
    "nr_letters = int(input('How many letters you want in passwaord\\n'))\n",
    "nr_symbols = int(input('How many letters you want in password\\n'))\n",
    "nr_numbers = int(input('How many numbers you want in password\\n'))\n",
    "\n",
    "password_list = []\n",
    "\n",
    "for char in range(0, nr_letters):\n",
    "    password_list.append(random.choice(letters))\n",
    "for char in range(0, nr_symbols):\n",
    "    password_list.append(random.choice(symbols))\n",
    "for char in range(0, nr_numbers):\n",
    "    password_list.append(random.choice(numbers))\n",
    "\n",
    "random.shuffle(password_list)\n",
    "\n",
    "password =''\n",
    "for char in password_list:\n",
    "    password += char\n",
    "\n",
    "print(f\" Your Password is {password}\")"
   ]
  },
  {
   "cell_type": "code",
   "execution_count": null,
   "id": "f2abc6cd",
   "metadata": {},
   "outputs": [],
   "source": []
  }
 ],
 "metadata": {
  "kernelspec": {
   "display_name": "Python 3 (ipykernel)",
   "language": "python",
   "name": "python3"
  },
  "language_info": {
   "codemirror_mode": {
    "name": "ipython",
    "version": 3
   },
   "file_extension": ".py",
   "mimetype": "text/x-python",
   "name": "python",
   "nbconvert_exporter": "python",
   "pygments_lexer": "ipython3",
   "version": "3.9.12"
  }
 },
 "nbformat": 4,
 "nbformat_minor": 5
}

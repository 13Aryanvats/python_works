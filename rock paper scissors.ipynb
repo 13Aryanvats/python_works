{
 "cells": [
  {
   "cell_type": "code",
   "execution_count": 1,
   "id": "eab57645",
   "metadata": {},
   "outputs": [],
   "source": [
    "import random\n"
   ]
  },
  {
   "cell_type": "code",
   "execution_count": 2,
   "id": "0f6321cf",
   "metadata": {},
   "outputs": [],
   "source": [
    "rock = \"\"\"\n",
    "    _______\n",
    "---'   ____)\n",
    "      (_____)\n",
    "      (_____)\n",
    "      (____)\n",
    "---.__(___)\n",
    "\"\"\"\n",
    "papper = \"\"\"\n",
    "     _______\n",
    "---'    ____)____\n",
    "           ______)\n",
    "          _______)\n",
    "         _______)\n",
    "---.__________)\n",
    "\"\"\"\n",
    "scissors = \"\"\"\n",
    "    _______\n",
    "---'   ____)____\n",
    "          ______)\n",
    "       __________)\n",
    "      (____)\n",
    "---.__(___)\n",
    "\"\"\""
   ]
  },
  {
   "cell_type": "code",
   "execution_count": 3,
   "id": "1d34b576",
   "metadata": {},
   "outputs": [
    {
     "name": "stdout",
     "output_type": "stream",
     "text": [
      "What is your choice?. 0 is for rock, 1 is for papper, 2 is for scissors2\n",
      "Your choice\n",
      "\n",
      "    _______\n",
      "---'   ____)____\n",
      "          ______)\n",
      "       __________)\n",
      "      (____)\n",
      "---.__(___)\n",
      "\n",
      "Computer choice\n",
      "\n",
      "     _______\n",
      "---'    ____)____\n",
      "           ______)\n",
      "          _______)\n",
      "         _______)\n",
      "---.__________)\n",
      "\n",
      "You WON\n"
     ]
    }
   ],
   "source": [
    "computer_choice = random.randint(0, 1)\n",
    "game_images = [rock, papper, scissors]\n",
    "user_choice = int(input(\"What is your choice?. 0 is for rock, 1 is for papper, 2 is for scissors\"))\n",
    "print(\"Your choice\")\n",
    "if user_choice >= 3 or user_choice < 0:\n",
    "    print(\"The number is not valid\")\n",
    "print(game_images[user_choice])\n",
    "print(\"Computer choice\")\n",
    "print(game_images[computer_choice])\n",
    "if user_choice >= 3 or user_choice < 0:\n",
    "    print(\"The number is not valid\")\n",
    "else:\n",
    "    if user_choice == computer_choice:\n",
    "        print(\"The Game is DRAW\")\n",
    "    elif user_choice==0 and computer_choice==1:\n",
    "        print(\"You LOSE\")\n",
    "    elif user_choice==0 and computer_choice==2:\n",
    "        print(\"You WON\")\n",
    "    elif user_choice==1 and computer_choice==0:\n",
    "        print(\"You WON\")\n",
    "    elif user_choice==1 and computer_choice==2:\n",
    "        print(\"You LOSE\")\n",
    "    elif user_choice==2 and computer_choice==1:\n",
    "        print(\"You WON\")\n",
    "    elif user_choice==2 and computer_choice==0:\n",
    "        print(\"You LOSE\")\n",
    "    else:\n",
    "        print(\"Something went wrong\")"
   ]
  },
  {
   "cell_type": "code",
   "execution_count": null,
   "id": "2acb3696",
   "metadata": {},
   "outputs": [],
   "source": [
    "\n",
    "                  \n",
    "                  \n",
    "                  \n",
    "                  "
   ]
  },
  {
   "cell_type": "code",
   "execution_count": null,
   "id": "13a6ed1d",
   "metadata": {},
   "outputs": [],
   "source": []
  }
 ],
 "metadata": {
  "kernelspec": {
   "display_name": "Python 3 (ipykernel)",
   "language": "python",
   "name": "python3"
  },
  "language_info": {
   "codemirror_mode": {
    "name": "ipython",
    "version": 3
   },
   "file_extension": ".py",
   "mimetype": "text/x-python",
   "name": "python",
   "nbconvert_exporter": "python",
   "pygments_lexer": "ipython3",
   "version": "3.9.12"
  }
 },
 "nbformat": 4,
 "nbformat_minor": 5
}

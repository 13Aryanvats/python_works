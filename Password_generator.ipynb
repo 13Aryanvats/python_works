{
 "cells": [
  {
   "cell_type": "code",
   "execution_count": 1,
   "id": "9e203a43",
   "metadata": {},
   "outputs": [],
   "source": [
    "# Password generator project\n"
   ]
  },
  {
   "cell_type": "code",
   "execution_count": 2,
   "id": "7e0cd027",
   "metadata": {},
   "outputs": [],
   "source": [
    "import random"
   ]
  },
  {
   "cell_type": "code",
   "execution_count": 3,
   "id": "555ca12e",
   "metadata": {},
   "outputs": [],
   "source": [
    "letters = ['a', 'b', 'c', 'd', 'e', 'f', 'g', 'h', 'i', 'j', 'k', 'l', 'm', 'n', 'o', 'p', 'q', 'r', 's', 't', 'u', 'v', 'w', 'y', 'z', 'A', 'B', 'C', 'D', 'E', 'F', 'G', 'H', 'I', 'J', 'K', 'L', 'M', 'N', 'O', 'P', 'Q', 'R', 'S', 'T', 'U', 'V', 'W', 'X', 'Y', 'Z']\n",
    "numbers = ['0', '1', '2', '3', '4', '5', '6', '7', '8', '9']\n",
    "symbols = ['!', '@', '#', '$', '%', '&', '*', '(', ')', '+']"
   ]
  },
  {
   "cell_type": "code",
   "execution_count": 7,
   "id": "65015d2e",
   "metadata": {},
   "outputs": [
    {
     "name": "stdout",
     "output_type": "stream",
     "text": [
      "How many letters you want in password?/n12\n",
      "How many numbers you want in password?3\n",
      "How many symbols you want in password?4\n",
      "Your password is: F$Lb7vAD4SW(iz1Pv+(\n"
     ]
    }
   ],
   "source": [
    "letter_tr = int(input(\"How many letters you want in password?/n\"))\n",
    "numbers_tr = int(input(\"How many numbers you want in password?\"))\n",
    "symbols_tr = int(input(\"How many symbols you want in password?\"))\n",
    "password = []\n",
    "for something in range(1, letter_tr+1):\n",
    "    password.append(random.choice(letters))\n",
    "for something in range(1, numbers_tr+1):\n",
    "    password.append(random.choice(numbers))\n",
    "for something in range(1, symbols_tr +1):\n",
    "    password.append(random.choice(symbols))    \n",
    "random.shuffle(password)\n",
    "password_list =\"\"\n",
    "for something in password:\n",
    "    password_list += something\n",
    "print(\"Your password is:\", password_list)\n",
    "\n",
    "    \n"
   ]
  },
  {
   "cell_type": "code",
   "execution_count": null,
   "id": "decb461c",
   "metadata": {},
   "outputs": [],
   "source": []
  }
 ],
 "metadata": {
  "kernelspec": {
   "display_name": "Python 3 (ipykernel)",
   "language": "python",
   "name": "python3"
  },
  "language_info": {
   "codemirror_mode": {
    "name": "ipython",
    "version": 3
   },
   "file_extension": ".py",
   "mimetype": "text/x-python",
   "name": "python",
   "nbconvert_exporter": "python",
   "pygments_lexer": "ipython3",
   "version": "3.9.12"
  }
 },
 "nbformat": 4,
 "nbformat_minor": 5
}
